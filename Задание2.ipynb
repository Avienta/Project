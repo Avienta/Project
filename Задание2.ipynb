{
 "cells": [
  {
   "cell_type": "markdown",
   "metadata": {},
   "source": [
    "## Алгоритм сортировки пузырьком\n",
    "\n",
    "Пусть есть два соседних неупорядоченных элемента $A[i] > A[i+1]$. Поменяем их местами. Нужно повторять такую операцию до тех пор, пока в массиве не останется неупорядоченных элементов. Нужно ещё организовать процесс так, чтобы он когда-нибудь закончился. \n",
    "\n",
    "Пройдём по всему списку слева направо. Если есть два неупорядоченных элемента - переставим их. В результате самый _большой_ элемент \"всплывёт\" и станет последним элементом списка. Повторим то же самое ещё раз, и вот уже второй по величине элемент \"всплывёт\" перед наибольшим. За следующий проход мы уже сможем поставить на своё место третий элемент и т.д. "
   ]
  },
  {
   "cell_type": "code",
   "execution_count": 32,
   "metadata": {},
   "outputs": [
    {
     "name": "stdout",
     "output_type": "stream",
     "text": [
      "40.9 µs ± 637 ns per loop (mean ± std. dev. of 7 runs, 10000 loops each)\n",
      "[0, 1, 1, 3, 3, 3, 3, 5, 5, 5, 6, 6, 7, 43, 67, 68, 75]\n"
     ]
    }
   ],
   "source": [
    "def sort_bubble(a):\n",
    "    n = len(a)\n",
    "    for j in range(n - 1, 0, -1):\n",
    "        for i in range(j):\n",
    "            if a[i] > a[i+1]:\n",
    "                a[i], a[i+1] = a[i+1], a[i]\n",
    "                \n",
    "a = [3, 67, 5, 68, 3, 5, 43 ,6, 3, 6,3 ,1, 5, 7, 0, 75, 1]\n",
    "%timeit sort_bubble(a)\n",
    "print(a)"
   ]
  },
  {
   "cell_type": "code",
   "execution_count": 34,
   "metadata": {},
   "outputs": [
    {
     "data": {
      "text/plain": [
       "[<matplotlib.lines.Line2D at 0x28c16862080>]"
      ]
     },
     "execution_count": 34,
     "metadata": {},
     "output_type": "execute_result"
    },
    {
     "data": {
      "image/png": "[encoded data removed]",
      "text/plain": [
       "<Figure size 432x288 with 1 Axes>"
      ]
     },
     "metadata": {
      "needs_background": "light"
     },
     "output_type": "display_data"
    }
   ],
   "source": [
    "%matplotlib inline\n",
    "import matplotlib.pyplot as plt\n",
    "\n",
    "number = [4, 6, 8, 10, 14, 16, 17, 21]\n",
    "time = [4.32, 7.7, 12.1, 16.1, 32.7, 38.3, 40.9, 64.6]\n",
    "plt.title(\"Зависимость времени выполнения\")\n",
    "plt.plot(number, time, 'o')"
   ]
  },
  {
   "cell_type": "markdown",
   "metadata": {},
   "source": [
    "Рассмотрим _наилучший_ вариант: когда список уже упорядочен. Тогда алгоритм совершит $n(n-1)$ сравнений и $0$ перестановок.\n",
    "Теперь рассмотрим _наихудший_ вариант: когда список упорядочен в другую сторону. Тогда алгоритм совершит $n(n-1)$ сравнений и $\\frac{n(n-1)}{2}$ перестановок, потому что каждую пару придётся переставлять. Перестановка занимает больше времени, чем сравнение, поэтому в случае упорядоченного списка можно считать, что алгоритм совершит около $n$ операций, а в худшем случае - порядка $n^2$. На графике получается что-то промежуточное между линейной и квадратичной функцией, как и должно быть."
   ]
  },
  {
   "cell_type": "code",
   "execution_count": null,
   "metadata": {},
   "outputs": [],
   "source": []
  }
 ],
 "metadata": {
  "kernelspec": {
   "display_name": "Python 3",
   "language": "python",
   "name": "python3"
  },
  "language_info": {
   "codemirror_mode": {
    "name": "ipython",
    "version": 3
   },
   "file_extension": ".py",
   "mimetype": "text/x-python",
   "name": "python",
   "nbconvert_exporter": "python",
   "pygments_lexer": "ipython3",
   "version": "3.6.6"
  }
 },
 "nbformat": 4,
 "nbformat_minor": 2
}
